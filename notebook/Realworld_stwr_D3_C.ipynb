{
 "cells": [
  {
   "cell_type": "code",
   "execution_count": 1,
   "metadata": {},
   "outputs": [],
   "source": [
    "import  numpy  as  np\n",
    "import libpysal as ps\n",
    "from stwr.gwr import GWR, MGWR,STWR\n",
    "from stwr.sel_bw import *\n",
    "from stwr.utils import shift_colormap, truncate_colormap\n",
    "import geopandas as gp\n",
    "import matplotlib.pyplot as plt\n",
    "import matplotlib as mpl\n",
    "from matplotlib import pyplot\n",
    "import pandas as pd\n",
    "import math\n",
    "from matplotlib.gridspec import GridSpec\n",
    "import time\n",
    "import csv \n",
    "import copy "
   ]
  },
  {
   "cell_type": "code",
   "execution_count": 2,
   "metadata": {},
   "outputs": [],
   "source": [
    "import rasterio\n",
    "import rasterio.plot\n",
    "import rasterio.features\n",
    "import rasterio.warp\n",
    "import pyproj"
   ]
  },
  {
   "cell_type": "code",
   "execution_count": 3,
   "metadata": {},
   "outputs": [
    {
     "name": "stdout",
     "output_type": "stream",
     "text": [
      "<class 'pandas.core.frame.DataFrame'>\n",
      "RangeIndex: 272 entries, 0 to 271\n",
      "Data columns (total 7 columns):\n",
      " #   Column     Non-Null Count  Dtype  \n",
      "---  ------     --------------  -----  \n",
      " 0   Longitude  272 non-null    float64\n",
      " 1   Latitude   272 non-null    float64\n",
      " 2   Elevation  272 non-null    float64\n",
      " 3   ppt        272 non-null    float64\n",
      " 4   tmean      272 non-null    float64\n",
      " 5   d2h        272 non-null    float64\n",
      " 6   timestamp  272 non-null    float64\n",
      "dtypes: float64(7)\n",
      "memory usage: 15.0 KB\n"
     ]
    }
   ],
   "source": [
    "#Read Data.\n",
    "#list of coordinates\n",
    "cal_coords_list =[]\n",
    "#list of y\n",
    "cal_y_list =[]\n",
    "#list of X\n",
    "cal_X_list =[]\n",
    "#time intervel list\n",
    "delt_stwr_intervel =[0.0]\n",
    "csvFile = open(\"../Data_STWR/RealWorldData/precip_isotope_D3.csv\", \"r\")\n",
    "df = pd.read_csv(csvFile,header = 0,names=['Longitude','Latitude','Elevation','ppt','tmean','d2h','timestamp'],\n",
    "                 dtype = {\"Longitude\" : \"float64\",\"Latitude\":\"float64\",\n",
    "                          \"Elevation\":\"float64\",\"ppt\":\"float64\",\"tmean\":\"float64\",\"d2h\":\"float64\",\n",
    "                          \"timestamp\":\"float64\"},\n",
    "                 skip_blank_lines = True,\n",
    "                 keep_default_na = False)\n",
    "df.info()\n",
    "#Sort the records by observation time.\n",
    "df = df.sort_values(by=['timestamp'])  \n",
    "all_data = df.values\n",
    "tick_time = all_data[0,-1]\n",
    "cal_coord_tick = []\n",
    "cal_X_tick =[]\n",
    "cal_y_tick =[]\n",
    "\n",
    "#If the time interval is less than \"time_tol\", the observation time is considered to be the same.\n",
    "time_tol = 1.0e-7\n",
    "# all records\n",
    "lensdata = len(all_data) # number of rows, or number of observations.\n",
    "for row in range(lensdata): # traverse all observation data\n",
    "    cur_time = all_data[row,-1] # get current timestamp\n",
    "    # if the timestamp changes, \n",
    "    if(abs(cur_time-tick_time)>time_tol):\n",
    "        cal_coords_list.append(np.asarray(cal_coord_tick))\n",
    "        cal_X_list.append(np.asarray(cal_X_tick))\n",
    "        cal_y_list.append(np.asarray(cal_y_tick))\n",
    "        delt_t = cur_time - tick_time\n",
    "        delt_stwr_intervel.append(delt_t) \n",
    "        tick_time =cur_time\n",
    "        cal_coord_tick = []\n",
    "        cal_X_tick =[]\n",
    "        cal_y_tick =[]\n",
    "    coords_tick = np.array([all_data[row,0],all_data[row,1]]) ## find the coords in your data\n",
    "    cal_coord_tick.append(coords_tick)\n",
    "\n",
    "    x_tick = np.array([all_data[row,2],all_data[row,3],all_data[row,4]]) ## this is to get all your X, here we have X1, X2, X3.\n",
    "    cal_X_tick.append(x_tick)\n",
    "    y_tick = np.array([all_data[row,5]]) ## find the y in your data\n",
    "    cal_y_tick.append(y_tick)\n",
    "\n",
    "#GWR only processes the last observation data point.\n",
    "cal_cord_gwr = np.asarray(cal_coord_tick)\n",
    "cal_X_gwr  = np.asarray(cal_X_tick)\n",
    "cal_y_gwr = np.asarray(cal_y_tick)  \n",
    "cal_coords_list.append(np.asarray(cal_coord_tick))\n",
    "cal_X_list.append(np.asarray(cal_X_tick))\n",
    "cal_y_list.append(np.asarray(cal_y_tick))"
   ]
  },
  {
   "cell_type": "code",
   "execution_count": 4,
   "metadata": {},
   "outputs": [],
   "source": [
    "#spherical is the parameter to set whether it is spherical coordinates or Euclidean coordinates\n",
    "stwr_selector_ = Sel_Spt_BW(cal_coords_list, cal_y_list, cal_X_list,#gwr_bw0,\n",
    "                            delt_stwr_intervel,spherical = True)\n",
    "#Search for optimal bandwidth.\n",
    "optalpha,optsita,opt_btticks,opt_gwr_bw0 = stwr_selector_.search() \n",
    "#Build the STWR model.  \n",
    "stwr_model = STWR(cal_coords_list,cal_y_list,cal_X_list,delt_stwr_intervel,optsita,opt_gwr_bw0,tick_nums=opt_btticks+1,alpha =optalpha,spherical = True,recorded=1)"
   ]
  },
  {
   "cell_type": "code",
   "execution_count": 5,
   "metadata": {},
   "outputs": [
    {
     "name": "stdout",
     "output_type": "stream",
     "text": [
      "===========================================================================\n",
      "Model type                                                         Gaussian\n",
      "Number of observations:                                                 182\n",
      "Number of covariates:                                                     4\n",
      "\n",
      "Global Regression Results\n",
      "---------------------------------------------------------------------------\n",
      "Residual sum of squares:                                          52669.399\n",
      "Log-likelihood:                                                    -343.801\n",
      "AIC:                                                                695.602\n",
      "AICc:                                                               698.498\n",
      "BIC:                                                              52373.357\n",
      "R2:                                                                   0.502\n",
      "Adj. R2:                                                              0.481\n",
      "\n",
      "Variable                              Est.         SE  t(Est/SE)    p-value\n",
      "------------------------------- ---------- ---------- ---------- ----------\n",
      "X0                                -133.140     10.618    -12.539      0.000\n",
      "X1                                  -0.010      0.022     -0.444      0.657\n",
      "X2                                   0.808      0.366      2.205      0.027\n",
      "X3                                   5.187      0.774      6.704      0.000\n",
      "\n",
      "Spatiotemporal Weighted Regression (STWR) Results\n",
      "---------------------------------------------------------------------------\n",
      "Spatial kernel:                                        Adaptive spt_bisquare\n",
      "Model sita used:                                                      0.000\n",
      "Model alpha used:                                                     0.000\n",
      "Init Bandwidth used:                                                 16.000\n",
      "Model Ticktimes used:                                                 2.000\n",
      "Model Ticktimes Intervels:                                           48.000\n",
      "\n",
      "Diagnostic information\n",
      "---------------------------------------------------------------------------\n",
      "Residual sum of squares:                                          25118.096\n",
      "Effective number of parameters (trace(S)):                           15.330\n",
      "Degree of freedom (n - trace(S)):                                   166.670\n",
      "Sigma estimate:                                                      12.276\n",
      "Log-likelihood:                                                    -316.775\n",
      "AIC:                                                                666.210\n",
      "AICc:                                                               669.648\n",
      "BIC:                                                                718.533\n",
      "R2:                                                                   0.763\n",
      "Adj. alpha (95%):                                                     0.013\n",
      "Adj. critical t value (95%):                                          2.507\n",
      "\n",
      "Summary Statistics For STWR Parameter Estimates\n",
      "---------------------------------------------------------------------------\n",
      "Variable                   Mean        STD        Min     Median        Max\n",
      "-------------------- ---------- ---------- ---------- ---------- ----------\n",
      "X0                     -124.953     53.578   -307.755   -122.135      7.233\n",
      "X1                       -0.020      0.054     -0.130     -0.023      0.130\n",
      "X2                       -0.151      0.283     -1.201     -0.082      0.257\n",
      "X3                        4.657      5.274    -12.156      4.468     16.364\n",
      "===========================================================================\n",
      "\n"
     ]
    }
   ],
   "source": [
    "#Fit the STWR model\n",
    "stwr_results = stwr_model.fit()\n",
    "stwr_results.summary()\n",
    "\n",
    "stwr_scale = stwr_results.scale \n",
    "stwr_residuals = stwr_results.resid_response"
   ]
  },
  {
   "cell_type": "code",
   "execution_count": 6,
   "metadata": {},
   "outputs": [
    {
     "name": "stdout",
     "output_type": "stream",
     "text": [
      "===========================================================================\n",
      "Model type                                                         Gaussian\n",
      "Number of observations:                                                  73\n",
      "Number of covariates:                                                     4\n",
      "\n",
      "Global Regression Results\n",
      "---------------------------------------------------------------------------\n",
      "Residual sum of squares:                                          52669.399\n",
      "Log-likelihood:                                                    -343.801\n",
      "AIC:                                                                695.602\n",
      "AICc:                                                               698.498\n",
      "BIC:                                                              52373.357\n",
      "R2:                                                                   0.502\n",
      "Adj. R2:                                                              0.481\n",
      "\n",
      "Variable                              Est.         SE  t(Est/SE)    p-value\n",
      "------------------------------- ---------- ---------- ---------- ----------\n",
      "X0                                -133.140     10.618    -12.539      0.000\n",
      "X1                                  -0.010      0.022     -0.444      0.657\n",
      "X2                                   0.808      0.366      2.205      0.027\n",
      "X3                                   5.187      0.774      6.704      0.000\n",
      "\n",
      "Geographically Weighted Regression (GWR) Results\n",
      "---------------------------------------------------------------------------\n",
      "Spatial kernel:                                           Adaptive bisquare\n",
      "Bandwidth used:                                                      43.000\n",
      "\n",
      "Diagnostic information\n",
      "---------------------------------------------------------------------------\n",
      "Residual sum of squares:                                          33043.921\n",
      "Effective number of parameters (trace(S)):                           11.858\n",
      "Degree of freedom (n - trace(S)):                                    61.142\n",
      "Sigma estimate:                                                      23.247\n",
      "Log-likelihood:                                                    -326.785\n",
      "AIC:                                                                679.285\n",
      "AICc:                                                               685.310\n",
      "BIC:                                                                708.735\n",
      "R2:                                                                   0.688\n",
      "Adj. alpha (95%):                                                     0.017\n",
      "Adj. critical t value (95%):                                          2.447\n",
      "\n",
      "Summary Statistics For GWR Parameter Estimates\n",
      "---------------------------------------------------------------------------\n",
      "Variable                   Mean        STD        Min     Median        Max\n",
      "-------------------- ---------- ---------- ---------- ---------- ----------\n",
      "X0                     -137.039     36.278   -205.127   -127.336    -55.843\n",
      "X1                       -0.036      0.034     -0.129     -0.045      0.026\n",
      "X2                        0.550      0.332     -0.278      0.556      1.395\n",
      "X3                        4.920      3.249     -0.179      3.593     10.752\n",
      "===========================================================================\n",
      "\n"
     ]
    }
   ],
   "source": [
    "#GWR only processes the data points observed at the the lastest time stage .\n",
    "gwr_selector = Sel_BW(cal_cord_gwr, cal_y_gwr, cal_X_gwr,spherical = True)\n",
    "#Search the bandwidth\n",
    "gwr_bw= gwr_selector.search(bw_min=2)\n",
    "#build the GWR model \n",
    "gwr_model = GWR(cal_cord_gwr, cal_y_gwr, cal_X_gwr, gwr_bw,spherical = True)\n",
    "gwr_results = gwr_model.fit()\n",
    "gwr_results.summary()\n",
    "\n",
    "gw_rscale = gwr_results.scale \n",
    "gwr_residuals = gwr_results.resid_response"
   ]
  },
  {
   "cell_type": "code",
   "execution_count": 7,
   "metadata": {},
   "outputs": [
    {
     "data": {
      "text/plain": [
       "{'driver': 'GTiff', 'dtype': 'float32', 'nodata': -3.402823e+38, 'width': 552, 'height': 327, 'count': 1, 'crs': CRS.from_epsg(4326), 'transform': Affine(0.041666666667, 0.0, -90.00013888888888,\n",
       "       0.0, -0.041666666666999995, 47.486804962267), 'blockxsize': 128, 'blockysize': 128, 'tiled': True, 'interleave': 'band'}"
      ]
     },
     "execution_count": 7,
     "metadata": {},
     "output_type": "execute_result"
    }
   ],
   "source": [
    "#Prediction\n",
    "#list of coordintates need to be predict.\n",
    "Pred_Coords_list =[]\n",
    "#list of  X values of the coordinates.\n",
    "X_pre_list = []\n",
    "theight1 = rasterio.open('../Data_STWR/RealWorldData/extgmted1.tif') ## elevation\n",
    "bheight1 = theight1.read(1) \n",
    "ppt1 = rasterio.open('../Data_STWR/RealWorldData/extppt1.tif')  ## precipitation\n",
    "bppt1 = ppt1.read(1)\n",
    "mean1 = rasterio.open('../Data_STWR/RealWorldData/extmean1.tif') ## Tmeans\n",
    "bmean1 = mean1.read(1)\n",
    "\n",
    "# These three TIF should have the same profile\n",
    "ppt1.profile"
   ]
  },
  {
   "cell_type": "code",
   "execution_count": 8,
   "metadata": {},
   "outputs": [
    {
     "data": {
      "text/plain": [
       "True"
      ]
     },
     "execution_count": 8,
     "metadata": {},
     "output_type": "execute_result"
    }
   ],
   "source": [
    "# These three TIF should have the same profile\n",
    "ppt1.profile == mean1.profile"
   ]
  },
  {
   "cell_type": "code",
   "execution_count": 9,
   "metadata": {},
   "outputs": [],
   "source": [
    "#record the profile of the \"*.tif\" file, including the information about the transform and \"nodata\".\n",
    "pf = ppt1.profile\n",
    "transform =ppt1.profile['transform']\n",
    "nodata = pf['nodata']"
   ]
  },
  {
   "cell_type": "code",
   "execution_count": 10,
   "metadata": {},
   "outputs": [],
   "source": [
    "# Z is the predicted y surface of STWR model\n",
    "Z =  bppt1.copy()\n",
    "#Z = Z.astype(np.float64)\n",
    "\n",
    "#Z2 is the predicted y surface of GWR model\n",
    "Z2 = bppt1.copy()\n",
    "#Z2 = Z2.astype(np.float64)"
   ]
  },
  {
   "cell_type": "code",
   "execution_count": 11,
   "metadata": {},
   "outputs": [],
   "source": [
    "\n",
    "\n",
    "mask = ppt1.dataset_mask() \n",
    "for row in range(mask.shape[0]):\n",
    "    for col in range (mask.shape[1]):\n",
    "        if(mask[row,col]>0):\n",
    "            X_tick = np.array([bheight1[row,col],bppt1[row,col],bmean1[row,col]])\n",
    "            X_pre_list.append(X_tick) # X used for prediction\n",
    "            Pred_Coords_list.append(ppt1.xy(row,col)) # coords for prediction\n",
    "\n",
    "            \n",
    "X_pre_arr = np.asarray(X_pre_list)\n",
    "alllen_stwr = len(Pred_Coords_list)\n",
    "allklen_stwr = X_pre_arr.shape[1]+1\n",
    "rec_parmas_stwr = np.ones((alllen_stwr,allklen_stwr))\n",
    "calen_stwr =  len(cal_y_list[-1])\n",
    "prelen_stwr = X_pre_arr.shape[0]\n",
    "#list of y predicted by the STWR model\n",
    "Pre_y_list = np.ones_like(X_pre_arr[:,1])\n",
    "#list of y predicted by the GWR model\n",
    "Pre_gwr_y_list = Pre_y_list.copy()\n",
    "\n",
    "stwr_pre_parmas = np.ones((prelen_stwr,allklen_stwr))\n",
    "#If the number of points to be predicted is more than the number we used for building the model(STWR or GWR),\n",
    "# their prediciton need to be split into servel parts.\n",
    "if (calen_stwr>=prelen_stwr):\n",
    "       predPointList = Pred_Coords_list\n",
    "       PreX_list = X_pre_arr\n",
    "       #Predicted result of STWR \n",
    "       pred_stwr_dir_result = stwr_model.predict(predPointList,PreX_list,stwr_scale,stwr_residuals)\n",
    "       pre_y_stwr = pred_stwr_dir_result.predictions \n",
    "       #Predicted result of GWR \n",
    "       pred_gwr_dir_result = gwr_model.predict(predPointList,PreX_list,gw_rscale,gwr_residuals)\n",
    "       pre_y_gwr = pred_gwr_dir_result.predictions\n",
    "       #gwr\n",
    "else:\n",
    "        spl_parts_stwr = math.ceil(prelen_stwr*1.0/calen_stwr) \n",
    "        spl_X_stwr = np.array_split(X_pre_arr, spl_parts_stwr, axis = 0)\n",
    "        spl_coords_stwr = np.array_split(Pred_Coords_list, spl_parts_stwr, axis = 0)\n",
    "        pred_stwr_result = np.array_split(Pre_y_list, spl_parts_stwr, axis = 0)\n",
    "        #uncomment if you want to predict the coefficient surfaces by STWR model.\n",
    "#        pred_stwrparmas_result = np.array_split(stwr_pre_parmas, spl_parts_stwr, axis = 0)\n",
    "        #uncomment if you want to predict the coefficient surfaces by STWR model.\n",
    "        #Split the y  to be predicted into servel parts for GWR prediction\n",
    "        pred_gwr_result = np.array_split(Pre_gwr_y_list, spl_parts_stwr, axis = 0)\n",
    "        #Split the y  to be predicted into servel parts for GWR prediction\n",
    "        \n",
    "        for j in range(spl_parts_stwr):\n",
    "                predPointList_tick = [spl_coords_stwr[j]]\n",
    "                PreX_list_tick = [spl_X_stwr[j]]\n",
    "                pred_stwr_spl_result =  stwr_model.predict(predPointList_tick,PreX_list_tick,stwr_scale,stwr_residuals)\n",
    "                pred_stwr_result[j] =pred_stwr_spl_result.predictions \n",
    "                #uncomment if you want to predict the coefficient surfaces by STWR model.\n",
    "#               pred_stwrparmas_result[j] =np.reshape(pred_stwr_spl_result.params.flatten(),(-1,allklen_stwr))\n",
    "                #uncomment if you want to predict the coefficient surfaces by STWR model.\n",
    "    \n",
    "                #GWR\n",
    "                pred_gwr_spl_result =  gwr_model.predict(spl_coords_stwr[j],spl_X_stwr[j],gw_rscale,gwr_residuals)\n",
    "                pred_gwr_result[j] =pred_gwr_spl_result.predictions\n",
    "                #GWR\n",
    "        pre_y_stwr = pred_stwr_result[0]\n",
    "#        pre_parmas_stwr = pred_stwrparmas_result[0]\n",
    "        combnum = spl_parts_stwr-1\n",
    "        #gwr\n",
    "        pre_y_gwr=pred_gwr_result[0]\n",
    "        #gwr\n",
    "        for s in range(combnum):\n",
    "            pre_y_stwr = np.vstack((pre_y_stwr,pred_stwr_result[s+1]))\n",
    "#            pre_parmas_stwr = np.vstack((pre_parmas_stwr,pred_stwrparmas_result[s+1]))\n",
    "            #gwr\n",
    "            pre_y_gwr = np.vstack((pre_y_gwr,pred_gwr_result[s+1]))\n",
    "            #gwr"
   ]
  },
  {
   "cell_type": "code",
   "execution_count": 12,
   "metadata": {},
   "outputs": [],
   "source": [
    "idx = 0  \n",
    "mask_ppt = ppt1.dataset_mask()\n",
    "\n",
    "for row in range(mask_ppt.shape[0]):\n",
    "    for col in range (mask_ppt.shape[1]):\n",
    "        if(mask[row,col]>0):\n",
    "                Z[row,col] = pre_y_stwr[idx]\n",
    "                #Predicted y surface by GWR \n",
    "                Z2[row,col] = pre_y_gwr[idx]\n",
    "                #Predicted y surface by GWR \n",
    "                idx = idx+1\n",
    "\n",
    "#Output the predicted y surface by STWR.\n",
    "with rasterio.open('../Data_STWR/RealWorldData/output/Rst3_stwr_nd_newt.tif', 'w', driver='GTiff', \n",
    "                   height=Z.shape[0],\n",
    "                   width=Z.shape[1], count=1, dtype=Z.dtype,\n",
    "                   crs='+proj=latlong', transform=transform,nodata = nodata) as dststwr:\n",
    "    dststwr.write(Z, 1)\n",
    "    \n",
    "#Output the predicted y surface by GWR.\n",
    "with rasterio.open('../Data_STWR/RealWorldData/output/Rst3_gwr_nd_newt.tif', 'w', driver='GTiff', \n",
    "                   height=Z2.shape[0],\n",
    "                   width=Z2.shape[1], count=1, dtype=Z2.dtype,\n",
    "                   crs='+proj=latlong', transform=transform,nodata = nodata) as dstgwr:\n",
    "    dstgwr.write(Z2, 1)  "
   ]
  },
  {
   "cell_type": "code",
   "execution_count": 13,
   "metadata": {},
   "outputs": [
    {
     "data": {
      "image/png": "[encoded data removed]",
      "text/plain": [
       "<Figure size 432x288 with 1 Axes>"
      ]
     },
     "metadata": {
      "needs_background": "light"
     },
     "output_type": "display_data"
    }
   ],
   "source": [
    "# pyplot.title(\"Predicted δ2H Surface of STWR\")\n",
    "pyplot.imshow(Z,cmap='binary',vmin=-238.478, vmax=18.4553)\n",
    "pyplot.show()"
   ]
  },
  {
   "cell_type": "code",
   "execution_count": 14,
   "metadata": {},
   "outputs": [
    {
     "data": {
      "image/png": "[encoded data removed]",
      "text/plain": [
       "<Figure size 432x288 with 1 Axes>"
      ]
     },
     "metadata": {
      "needs_background": "light"
     },
     "output_type": "display_data"
    }
   ],
   "source": [
    "pyplot.title(\"Predicted δ2H Surface of GWR\")\n",
    "pyplot.imshow(Z2, cmap='binary',vmin=-238.478, vmax=18.4553)\n",
    "pyplot.show()"
   ]
  }
 ],
 "metadata": {
  "kernelspec": {
   "display_name": "Python 3",
   "language": "python",
   "name": "python3"
  },
  "language_info": {
   "codemirror_mode": {
    "name": "ipython",
    "version": 3
   },
   "file_extension": ".py",
   "mimetype": "text/x-python",
   "name": "python",
   "nbconvert_exporter": "python",
   "pygments_lexer": "ipython3",
   "version": "3.7.7"
  }
 },
 "nbformat": 4,
 "nbformat_minor": 4
}
