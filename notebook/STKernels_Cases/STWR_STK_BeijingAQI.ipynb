{
 "cells": [
  {
   "cell_type": "code",
   "execution_count": 1,
   "metadata": {},
   "outputs": [],
   "source": [
    "import  numpy  as  np\n",
    "import libpysal as ps\n",
    "from stwr.gwr import GWR, MGWR,STWR\n",
    "from stwr.sel_bw import *\n",
    "from stwr.utils import shift_colormap, truncate_colormap\n",
    "import geopandas as gp\n",
    "import matplotlib.pyplot as plt\n",
    "import matplotlib as mpl\n",
    "import pandas as pd\n",
    "import math\n",
    "from matplotlib.gridspec import GridSpec\n",
    "import time\n",
    "import csv \n",
    "import copy \n",
    "import pyproj"
   ]
  },
  {
   "cell_type": "code",
   "execution_count": 2,
   "metadata": {},
   "outputs": [],
   "source": [
    "cal_coords_list =[]\n",
    "cal_y_list =[]\n",
    "cal_X_list =[]\n",
    "delt_stwr_intervel =[0.0]"
   ]
  },
  {
   "cell_type": "code",
   "execution_count": 3,
   "metadata": {},
   "outputs": [
    {
     "name": "stdout",
     "output_type": "stream",
     "text": [
      "<class 'pandas.core.frame.DataFrame'>\n",
      "RangeIndex: 384 entries, 0 to 383\n",
      "Data columns (total 17 columns):\n",
      "Unnamed: 0    384 non-null int64\n",
      "lon           384 non-null float64\n",
      "lat           384 non-null float64\n",
      "temp          384 non-null float64\n",
      "hpa           384 non-null float64\n",
      "wet           384 non-null float64\n",
      "speed         384 non-null float64\n",
      "dir           384 non-null float64\n",
      "mm            384 non-null float64\n",
      "height        384 non-null float64\n",
      "t_time        384 non-null float64\n",
      "pm25          384 non-null object\n",
      "pm25_24       384 non-null object\n",
      "pm10          384 non-null object\n",
      "pm10_24       384 non-null object\n",
      "aqi           384 non-null float64\n",
      "time          384 non-null float64\n",
      "dtypes: float64(12), int64(1), object(4)\n",
      "memory usage: 51.1+ KB\n"
     ]
    }
   ],
   "source": [
    "csvFile = open(\"beijing_all_20160423.csv\", \"r\")\n",
    "df = pd.read_csv(csvFile,header = 0,\n",
    "                 skip_blank_lines = True,\n",
    "                 keep_default_na = False)\n",
    "df.info()"
   ]
  },
  {
   "cell_type": "code",
   "execution_count": 4,
   "metadata": {},
   "outputs": [],
   "source": [
    "df = df.drop(columns=['pm25', 'pm25_24','pm10','pm10_24'])\n",
    "df['aqi' ]=pd.to_numeric(df['aqi'])\n",
    "\n",
    "df = df.sort_values(['time']) \n",
    "all_data = df.values\n",
    "#remove nan in all_data\n",
    "all_data = all_data[~np.isnan(all_data).any(axis=1)]\n",
    "all_data = all_data[:,1:]"
   ]
  },
  {
   "cell_type": "code",
   "execution_count": 5,
   "metadata": {},
   "outputs": [],
   "source": [
    "\n",
    "tick_time = all_data[0,-1]\n",
    "cal_coord_tick = []\n",
    "cal_X_tick =[]\n",
    "cal_y_tick =[]\n",
    "\n",
    "time_tol = 1.0e-7\n",
    "\n",
    "lensdata = len(all_data)\n",
    "for row in range(lensdata):\n",
    "    cur_time = all_data[row,-1]\n",
    "    if(abs(cur_time-tick_time)>time_tol):\n",
    "        cal_coords_list.append(np.asarray(cal_coord_tick))\n",
    "        cal_X_list.append(np.asarray(cal_X_tick))\n",
    "        cal_y_list.append(np.asarray(cal_y_tick))\n",
    "        delt_t = cur_time - tick_time\n",
    "        delt_stwr_intervel.append(delt_t) \n",
    "        tick_time =cur_time\n",
    "        cal_coord_tick = []\n",
    "        cal_X_tick =[]\n",
    "        cal_y_tick =[]\n",
    "    coords_tick = np.array([all_data[row,0],all_data[row,1]])\n",
    "    cal_coord_tick.append(coords_tick)\n",
    "\n",
    "    x_tick = np.array([all_data[row,2],all_data[row,3],all_data[row,4],all_data[row,5],all_data[row,6],all_data[row,8]])\n",
    "    cal_X_tick.append(x_tick)\n",
    "    y_tick = np.array([all_data[row,-2]])\n",
    "    cal_y_tick.append(y_tick)\n"
   ]
  },
  {
   "cell_type": "code",
   "execution_count": 6,
   "metadata": {},
   "outputs": [],
   "source": [
    "#gwr \n",
    "cal_cord_gwr = np.asarray(cal_coord_tick)\n",
    "cal_X_gwr  = np.asarray(cal_X_tick)\n",
    "cal_y_gwr = np.asarray(cal_y_tick)  \n",
    "cal_coords_list.append(np.asarray(cal_coord_tick))\n",
    "cal_X_list.append(np.asarray(cal_X_tick))\n",
    "cal_y_list.append(np.asarray(cal_y_tick))"
   ]
  },
  {
   "cell_type": "code",
   "execution_count": 8,
   "metadata": {},
   "outputs": [
    {
     "name": "stdout",
     "output_type": "stream",
     "text": [
      "===========================================================================\n",
      "Model type                                                         Gaussian\n",
      "Number of observations:                                                  16\n",
      "Number of covariates:                                                     7\n",
      "\n",
      "Global Regression Results\n",
      "---------------------------------------------------------------------------\n",
      "Residual sum of squares:                                            907.560\n",
      "Log-likelihood:                                                     -55.008\n",
      "AIC:                                                                124.017\n",
      "AICc:                                                               146.588\n",
      "BIC:                                                                882.607\n",
      "R2:                                                                   0.085\n",
      "Adj. R2:                                                             -0.525\n",
      "\n",
      "Variable                              Est.         SE  t(Est/SE)    p-value\n",
      "------------------------------- ---------- ---------- ---------- ----------\n",
      "X0                                6835.638  11188.703      0.611      0.541\n",
      "X1                                   0.510      5.788      0.088      0.930\n",
      "X2                                  -6.706     11.021     -0.609      0.543\n",
      "X3                                   0.634      2.092      0.303      0.762\n",
      "X4                                   2.590      5.296      0.489      0.625\n",
      "X5                                  -0.032      0.067     -0.480      0.631\n",
      "X6                                  -0.797      1.313     -0.607      0.544\n",
      "\n",
      "Geographically Weighted Regression (GWR) Results\n",
      "---------------------------------------------------------------------------\n",
      "Spatial kernel:                                           Adaptive bisquare\n",
      "Bandwidth used:                                                      11.000\n",
      "\n",
      "Diagnostic information\n",
      "---------------------------------------------------------------------------\n",
      "Residual sum of squares:                                            200.770\n",
      "Effective number of parameters (trace(S)):                           14.145\n",
      "Degree of freedom (n - trace(S)):                                     1.855\n",
      "Sigma estimate:                                                      10.403\n",
      "Log-likelihood:                                                     -42.940\n",
      "AIC:                                                                116.169\n",
      "AICc:                                                             -3258.229\n",
      "BIC:                                                                127.870\n",
      "R2:                                                                   0.798\n",
      "Adj. alpha (95%):                                                     0.025\n",
      "Adj. critical t value (95%):                                          2.495\n",
      "\n",
      "Summary Statistics For GWR Parameter Estimates\n",
      "---------------------------------------------------------------------------\n",
      "Variable                   Mean        STD        Min     Median        Max\n",
      "-------------------- ---------- ---------- ---------- ---------- ----------\n",
      "X0                   -20145.139  40277.385 -123734.772  -5553.334  15512.869\n",
      "X1                       11.031     42.157    -16.030     -2.375    136.139\n",
      "X2                       19.689     38.883    -15.274      5.659    119.872\n",
      "X3                        2.105      8.461     -3.639     -0.231     27.803\n",
      "X4                        6.268     11.464     -9.264      3.959     31.193\n",
      "X5                       -0.108      0.180     -0.324     -0.107      0.285\n",
      "X6                        2.742      4.889     -1.893      1.073     15.120\n",
      "===========================================================================\n",
      "\n"
     ]
    }
   ],
   "source": [
    " #gwr  \n",
    "gwr_selector = Sel_BW(cal_cord_gwr, cal_y_gwr, cal_X_gwr,spherical = True)\n",
    "gwr_bw= gwr_selector.search(bw_min=2)        \n",
    "gwr_model = GWR(cal_cord_gwr, cal_y_gwr, cal_X_gwr, gwr_bw,spherical = True)\n",
    "gwr_results = gwr_model.fit()\n",
    "print(gwr_results.summary())"
   ]
  },
  {
   "cell_type": "code",
   "execution_count": null,
   "metadata": {},
   "outputs": [],
   "source": []
  }
 ],
 "metadata": {
  "kernelspec": {
   "display_name": "Python 3",
   "language": "python",
   "name": "python3"
  },
  "language_info": {
   "codemirror_mode": {
    "name": "ipython",
    "version": 3
   },
   "file_extension": ".py",
   "mimetype": "text/x-python",
   "name": "python",
   "nbconvert_exporter": "python",
   "pygments_lexer": "ipython3",
   "version": "3.6.8"
  }
 },
 "nbformat": 4,
 "nbformat_minor": 2
}
